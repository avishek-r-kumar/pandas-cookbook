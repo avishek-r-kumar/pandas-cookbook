{
 "cells": [
  {
   "cell_type": "code",
   "execution_count": 1,
   "metadata": {
    "collapsed": false
   },
   "outputs": [
    {
     "name": "stdout",
     "output_type": "stream",
     "text": [
      "Populating the interactive namespace from numpy and matplotlib\n"
     ]
    }
   ],
   "source": [
    "%pylab inline\n",
    "import pandas as pd\n",
    "import sqlite3\n",
    "import seaborn as sns"
   ]
  },
  {
   "cell_type": "code",
   "execution_count": 2,
   "metadata": {
    "collapsed": true
   },
   "outputs": [],
   "source": [
    "con = sqlite3.connect('./../data/weather_2012.sqlite')"
   ]
  },
  {
   "cell_type": "code",
   "execution_count": 3,
   "metadata": {
    "collapsed": true
   },
   "outputs": [],
   "source": [
    "c = con.cursor()"
   ]
  },
  {
   "cell_type": "code",
   "execution_count": 4,
   "metadata": {
    "collapsed": false
   },
   "outputs": [
    {
     "data": {
      "text/plain": [
       "<sqlite3.Cursor at 0x7ffb10d1e1f0>"
      ]
     },
     "execution_count": 4,
     "metadata": {},
     "output_type": "execute_result"
    }
   ],
   "source": [
    "c.execute('SELECT * FROM sqlite_master;')"
   ]
  },
  {
   "cell_type": "code",
   "execution_count": 5,
   "metadata": {
    "collapsed": false
   },
   "outputs": [
    {
     "data": {
      "text/plain": [
       "[(u'table',\n",
       "  u'weather_2012',\n",
       "  u'weather_2012',\n",
       "  2,\n",
       "  u'CREATE TABLE weather_2012 (\\n            id INTEGER PRIMARY KEY AUTOINCREMENT,\\n            date_time TIMESTAMP,\\n            temp DOUBLE PRECISION\\n        )'),\n",
       " (u'table',\n",
       "  u'sqlite_sequence',\n",
       "  u'sqlite_sequence',\n",
       "  3,\n",
       "  u'CREATE TABLE sqlite_sequence(name,seq)')]"
      ]
     },
     "execution_count": 5,
     "metadata": {},
     "output_type": "execute_result"
    }
   ],
   "source": [
    "c.fetchall()"
   ]
  },
  {
   "cell_type": "code",
   "execution_count": 6,
   "metadata": {
    "collapsed": false
   },
   "outputs": [
    {
     "data": {
      "text/plain": [
       "[(u'weather_2012', 100)]"
      ]
     },
     "execution_count": 6,
     "metadata": {},
     "output_type": "execute_result"
    }
   ],
   "source": [
    "c.execute('SELECT * FROM sqlite_sequence').fetchall()"
   ]
  },
  {
   "cell_type": "code",
   "execution_count": 7,
   "metadata": {
    "collapsed": false
   },
   "outputs": [
    {
     "data": {
      "text/plain": [
       "[(1, u'2012-01-01 00:00:00', -1.8),\n",
       " (2, u'2012-01-01 01:00:00', -1.8),\n",
       " (3, u'2012-01-01 02:00:00', -1.8),\n",
       " (4, u'2012-01-01 03:00:00', -1.5),\n",
       " (5, u'2012-01-01 04:00:00', -1.5),\n",
       " (6, u'2012-01-01 05:00:00', -1.4),\n",
       " (7, u'2012-01-01 06:00:00', -1.5),\n",
       " (8, u'2012-01-01 07:00:00', -1.4),\n",
       " (9, u'2012-01-01 08:00:00', -1.4),\n",
       " (10, u'2012-01-01 09:00:00', -1.3),\n",
       " (11, u'2012-01-01 10:00:00', -1.0),\n",
       " (12, u'2012-01-01 11:00:00', -0.5),\n",
       " (13, u'2012-01-01 12:00:00', -0.2),\n",
       " (14, u'2012-01-01 13:00:00', 0.2),\n",
       " (15, u'2012-01-01 14:00:00', 0.8),\n",
       " (16, u'2012-01-01 15:00:00', 1.8),\n",
       " (17, u'2012-01-01 16:00:00', 2.6),\n",
       " (18, u'2012-01-01 17:00:00', 3.0),\n",
       " (19, u'2012-01-01 18:00:00', 3.8),\n",
       " (20, u'2012-01-01 19:00:00', 3.1),\n",
       " (21, u'2012-01-01 20:00:00', 3.2),\n",
       " (22, u'2012-01-01 21:00:00', 4.0),\n",
       " (23, u'2012-01-01 22:00:00', 4.4),\n",
       " (24, u'2012-01-01 23:00:00', 5.3),\n",
       " (25, u'2012-01-02 00:00:00', 5.2),\n",
       " (26, u'2012-01-02 01:00:00', 4.6),\n",
       " (27, u'2012-01-02 02:00:00', 3.9),\n",
       " (28, u'2012-01-02 03:00:00', 3.7),\n",
       " (29, u'2012-01-02 04:00:00', 2.9),\n",
       " (30, u'2012-01-02 05:00:00', 2.6),\n",
       " (31, u'2012-01-02 06:00:00', 2.3),\n",
       " (32, u'2012-01-02 07:00:00', 2.0),\n",
       " (33, u'2012-01-02 08:00:00', 1.9),\n",
       " (34, u'2012-01-02 09:00:00', 1.8),\n",
       " (35, u'2012-01-02 10:00:00', 1.5),\n",
       " (36, u'2012-01-02 11:00:00', 2.2),\n",
       " (37, u'2012-01-02 12:00:00', 1.7),\n",
       " (38, u'2012-01-02 13:00:00', 1.1),\n",
       " (39, u'2012-01-02 14:00:00', 1.1),\n",
       " (40, u'2012-01-02 15:00:00', 0.0),\n",
       " (41, u'2012-01-02 16:00:00', -0.7),\n",
       " (42, u'2012-01-02 17:00:00', -2.1),\n",
       " (43, u'2012-01-02 18:00:00', -4.1),\n",
       " (44, u'2012-01-02 19:00:00', -4.8),\n",
       " (45, u'2012-01-02 20:00:00', -5.6),\n",
       " (46, u'2012-01-02 21:00:00', -5.8),\n",
       " (47, u'2012-01-02 22:00:00', -7.0),\n",
       " (48, u'2012-01-02 23:00:00', -7.4),\n",
       " (49, u'2012-01-03 00:00:00', -9.0),\n",
       " (50, u'2012-01-03 01:00:00', -9.7),\n",
       " (51, u'2012-01-03 02:00:00', -10.5),\n",
       " (52, u'2012-01-03 03:00:00', -11.3),\n",
       " (53, u'2012-01-03 04:00:00', -12.6),\n",
       " (54, u'2012-01-03 05:00:00', -12.9),\n",
       " (55, u'2012-01-03 06:00:00', -13.3),\n",
       " (56, u'2012-01-03 07:00:00', -14.0),\n",
       " (57, u'2012-01-03 08:00:00', -14.8),\n",
       " (58, u'2012-01-03 09:00:00', -15.0),\n",
       " (59, u'2012-01-03 10:00:00', -15.3),\n",
       " (60, u'2012-01-03 11:00:00', -14.9),\n",
       " (61, u'2012-01-03 12:00:00', -14.9),\n",
       " (62, u'2012-01-03 13:00:00', -15.1),\n",
       " (63, u'2012-01-03 14:00:00', -14.9),\n",
       " (64, u'2012-01-03 15:00:00', -14.8),\n",
       " (65, u'2012-01-03 16:00:00', -15.3),\n",
       " (66, u'2012-01-03 17:00:00', -15.8),\n",
       " (67, u'2012-01-03 18:00:00', -16.3),\n",
       " (68, u'2012-01-03 19:00:00', -16.9),\n",
       " (69, u'2012-01-03 20:00:00', -17.3),\n",
       " (70, u'2012-01-03 21:00:00', -17.0),\n",
       " (71, u'2012-01-03 22:00:00', -17.1),\n",
       " (72, u'2012-01-03 23:00:00', -17.3),\n",
       " (73, u'2012-01-04 00:00:00', -17.5),\n",
       " (74, u'2012-01-04 01:00:00', -17.9),\n",
       " (75, u'2012-01-04 02:00:00', -18.1),\n",
       " (76, u'2012-01-04 03:00:00', -18.5),\n",
       " (77, u'2012-01-04 04:00:00', -18.5),\n",
       " (78, u'2012-01-04 05:00:00', -18.6),\n",
       " (79, u'2012-01-04 06:00:00', -18.5),\n",
       " (80, u'2012-01-04 07:00:00', -18.2),\n",
       " (81, u'2012-01-04 08:00:00', -17.8),\n",
       " (82, u'2012-01-04 09:00:00', -16.8),\n",
       " (83, u'2012-01-04 10:00:00', -15.2),\n",
       " (84, u'2012-01-04 11:00:00', -14.2),\n",
       " (85, u'2012-01-04 12:00:00', -13.7),\n",
       " (86, u'2012-01-04 13:00:00', -12.4),\n",
       " (87, u'2012-01-04 14:00:00', -11.3),\n",
       " (88, u'2012-01-04 15:00:00', -10.2),\n",
       " (89, u'2012-01-04 16:00:00', -9.4),\n",
       " (90, u'2012-01-04 17:00:00', -8.9),\n",
       " (91, u'2012-01-04 18:00:00', -8.9),\n",
       " (92, u'2012-01-04 19:00:00', -8.4),\n",
       " (93, u'2012-01-04 20:00:00', -7.8),\n",
       " (94, u'2012-01-04 21:00:00', -7.6),\n",
       " (95, u'2012-01-04 22:00:00', -9.5),\n",
       " (96, u'2012-01-04 23:00:00', -9.6),\n",
       " (97, u'2012-01-05 00:00:00', -8.8),\n",
       " (98, u'2012-01-05 01:00:00', -7.5),\n",
       " (99, u'2012-01-05 02:00:00', -5.4),\n",
       " (100, u'2012-01-05 03:00:00', -5.0)]"
      ]
     },
     "execution_count": 7,
     "metadata": {},
     "output_type": "execute_result"
    }
   ],
   "source": [
    "c.execute('SELECT * FROM weather_2012').fetchall()"
   ]
  },
  {
   "cell_type": "code",
   "execution_count": 8,
   "metadata": {
    "collapsed": true
   },
   "outputs": [],
   "source": [
    "table = pd.read_sql_query(\"SELECT * from weather_2012\",con,\n",
    "                         index_col='id',\n",
    "                         parse_dates='date_time')"
   ]
  },
  {
   "cell_type": "code",
   "execution_count": 29,
   "metadata": {
    "collapsed": false
   },
   "outputs": [],
   "source": [
    "month=table.set_index('date_time').index.month"
   ]
  },
  {
   "cell_type": "code",
   "execution_count": 36,
   "metadata": {
    "collapsed": false
   },
   "outputs": [],
   "source": [
    "table['day']=pd.DatetimeIndex(table['date_time']).day"
   ]
  },
  {
   "cell_type": "code",
   "execution_count": 43,
   "metadata": {
    "collapsed": false
   },
   "outputs": [
    {
     "data": {
      "text/plain": [
       "<matplotlib.axes._subplots.AxesSubplot at 0x7ffb1021a850>"
      ]
     },
     "execution_count": 43,
     "metadata": {},
     "output_type": "execute_result"
    },
    {
     "data": {
      "image/png": "[encoded data removed]",
      "text/plain": [
       "<matplotlib.figure.Figure at 0x7ffb1021a0d0>"
      ]
     },
     "metadata": {},
     "output_type": "display_data"
    }
   ],
   "source": [
    "table.query('day==1').set_index('date_time')['temp'].plot()"
   ]
  },
  {
   "cell_type": "code",
   "execution_count": 44,
   "metadata": {
    "collapsed": false
   },
   "outputs": [
    {
     "data": {
      "text/plain": [
       "<matplotlib.axes._subplots.AxesSubplot at 0x7ffb1021a710>"
      ]
     },
     "execution_count": 44,
     "metadata": {},
     "output_type": "execute_result"
    },
    {
     "data": {
      "image/png": "[encoded data removed]",
      "text/plain": [
       "<matplotlib.figure.Figure at 0x7ffb106156d0>"
      ]
     },
     "metadata": {},
     "output_type": "display_data"
    }
   ],
   "source": [
    "table.query('day==2').set_index('date_time')['temp'].plot()"
   ]
  },
  {
   "cell_type": "code",
   "execution_count": 45,
   "metadata": {
    "collapsed": false
   },
   "outputs": [
    {
     "data": {
      "text/plain": [
       "date_time\n",
       "2012-01-02 00:00:00    5.2\n",
       "2012-01-02 01:00:00    4.6\n",
       "2012-01-02 02:00:00    3.9\n",
       "2012-01-02 03:00:00    3.7\n",
       "2012-01-02 04:00:00    2.9\n",
       "2012-01-02 05:00:00    2.6\n",
       "2012-01-02 06:00:00    2.3\n",
       "2012-01-02 07:00:00    2.0\n",
       "2012-01-02 08:00:00    1.9\n",
       "2012-01-02 09:00:00    1.8\n",
       "2012-01-02 10:00:00    1.5\n",
       "2012-01-02 11:00:00    2.2\n",
       "2012-01-02 12:00:00    1.7\n",
       "2012-01-02 13:00:00    1.1\n",
       "2012-01-02 14:00:00    1.1\n",
       "2012-01-02 15:00:00    0.0\n",
       "2012-01-02 16:00:00   -0.7\n",
       "2012-01-02 17:00:00   -2.1\n",
       "2012-01-02 18:00:00   -4.1\n",
       "2012-01-02 19:00:00   -4.8\n",
       "2012-01-02 20:00:00   -5.6\n",
       "2012-01-02 21:00:00   -5.8\n",
       "2012-01-02 22:00:00   -7.0\n",
       "2012-01-02 23:00:00   -7.4\n",
       "Name: temp, dtype: float64"
      ]
     },
     "execution_count": 45,
     "metadata": {},
     "output_type": "execute_result"
    }
   ],
   "source": [
    "table.query('day==2').set_index('date_time')['temp']"
   ]
  },
  {
   "cell_type": "code",
   "execution_count": null,
   "metadata": {
    "collapsed": true
   },
   "outputs": [],
   "source": []
  }
 ],
 "metadata": {
  "kernelspec": {
   "display_name": "Python 2",
   "language": "python",
   "name": "python2"
  },
  "language_info": {
   "codemirror_mode": {
    "name": "ipython",
    "version": 2
   },
   "file_extension": ".py",
   "mimetype": "text/x-python",
   "name": "python",
   "nbconvert_exporter": "python",
   "pygments_lexer": "ipython2",
   "version": "2.7.11+"
  }
 },
 "nbformat": 4,
 "nbformat_minor": 0
}
