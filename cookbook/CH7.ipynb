{
 "cells": [
  {
   "cell_type": "code",
   "execution_count": 1,
   "metadata": {
    "collapsed": false
   },
   "outputs": [
    {
     "name": "stdout",
     "output_type": "stream",
     "text": [
      "Populating the interactive namespace from numpy and matplotlib\n"
     ]
    }
   ],
   "source": [
    "%pylab inline\n",
    "import pandas as pd\n",
    "import seaborn as sns"
   ]
  },
  {
   "cell_type": "code",
   "execution_count": 53,
   "metadata": {
    "collapsed": false
   },
   "outputs": [],
   "source": [
    "na_values = ['NO CLUE','0','N/A']\n",
    "requests = pd.read_csv('./../data/311-service-requests.csv',\n",
    "                 na_values=na_values,\n",
    "                 dtype={'Incident Zip': str})"
   ]
  },
  {
   "cell_type": "code",
   "execution_count": 54,
   "metadata": {
    "collapsed": false
   },
   "outputs": [],
   "source": [
    "zip_with_dashes_mask=requests['Incident Zip'].map(lambda x: True if '-' in str(x) else False )"
   ]
  },
  {
   "cell_type": "markdown",
   "metadata": {},
   "source": [
    "# find zip codes that have dashes in them and then edit"
   ]
  },
  {
   "cell_type": "markdown",
   "metadata": {},
   "source": [
    "## my way"
   ]
  },
  {
   "cell_type": "code",
   "execution_count": 55,
   "metadata": {
    "collapsed": false
   },
   "outputs": [],
   "source": [
    "zip_with_dashes_mask=requests['Incident Zip'].map(lambda x: True if '-' in str(x) else False )"
   ]
  },
  {
   "cell_type": "code",
   "execution_count": 56,
   "metadata": {
    "collapsed": false
   },
   "outputs": [
    {
     "data": {
      "text/plain": [
       "29136    77092\n",
       "30939    55164\n",
       "70539    11549\n",
       "85821    29616\n",
       "89304    35209\n",
       "Name: Incident Zip, dtype: object"
      ]
     },
     "execution_count": 56,
     "metadata": {},
     "output_type": "execute_result"
    }
   ],
   "source": [
    "requests[zip_with_dashes_mask]['Incident Zip'].map(lambda x: x[:5])"
   ]
  },
  {
   "cell_type": "code",
   "execution_count": 57,
   "metadata": {
    "collapsed": false
   },
   "outputs": [],
   "source": [
    "requests['Incident Zip'] = requests.ix[zip_with_dashes_mask,'Incident Zip'].map(lambda x: x[:5])"
   ]
  },
  {
   "cell_type": "code",
   "execution_count": 58,
   "metadata": {
    "collapsed": false
   },
   "outputs": [
    {
     "data": {
      "text/html": [
       "<div>\n",
       "<table border=\"1\" class=\"dataframe\">\n",
       "  <thead>\n",
       "    <tr style=\"text-align: right;\">\n",
       "      <th></th>\n",
       "      <th>Unique Key</th>\n",
       "      <th>Created Date</th>\n",
       "      <th>Closed Date</th>\n",
       "      <th>Agency</th>\n",
       "      <th>Agency Name</th>\n",
       "      <th>Complaint Type</th>\n",
       "      <th>Descriptor</th>\n",
       "      <th>Location Type</th>\n",
       "      <th>Incident Zip</th>\n",
       "      <th>Incident Address</th>\n",
       "      <th>...</th>\n",
       "      <th>Bridge Highway Name</th>\n",
       "      <th>Bridge Highway Direction</th>\n",
       "      <th>Road Ramp</th>\n",
       "      <th>Bridge Highway Segment</th>\n",
       "      <th>Garage Lot Name</th>\n",
       "      <th>Ferry Direction</th>\n",
       "      <th>Ferry Terminal Name</th>\n",
       "      <th>Latitude</th>\n",
       "      <th>Longitude</th>\n",
       "      <th>Location</th>\n",
       "    </tr>\n",
       "  </thead>\n",
       "  <tbody>\n",
       "  </tbody>\n",
       "</table>\n",
       "<p>0 rows × 52 columns</p>\n",
       "</div>"
      ],
      "text/plain": [
       "Empty DataFrame\n",
       "Columns: [Unique Key, Created Date, Closed Date, Agency, Agency Name, Complaint Type, Descriptor, Location Type, Incident Zip, Incident Address, Street Name, Cross Street 1, Cross Street 2, Intersection Street 1, Intersection Street 2, Address Type, City, Landmark, Facility Type, Status, Due Date, Resolution Action Updated Date, Community Board, Borough, X Coordinate (State Plane), Y Coordinate (State Plane), Park Facility Name, Park Borough, School Name, School Number, School Region, School Code, School Phone Number, School Address, School City, School State, School Zip, School Not Found, School or Citywide Complaint, Vehicle Type, Taxi Company Borough, Taxi Pick Up Location, Bridge Highway Name, Bridge Highway Direction, Road Ramp, Bridge Highway Segment, Garage Lot Name, Ferry Direction, Ferry Terminal Name, Latitude, Longitude, Location]\n",
       "Index: []\n",
       "\n",
       "[0 rows x 52 columns]"
      ]
     },
     "execution_count": 58,
     "metadata": {},
     "output_type": "execute_result"
    }
   ],
   "source": [
    "zip_with_dashes_mask=requests['Incident Zip'].map(lambda x: True if '-' in str(x) else False )\n",
    "requests[zip_with_dashes_mask]"
   ]
  },
  {
   "cell_type": "markdown",
   "metadata": {},
   "source": [
    "## Now do it the cookbook way"
   ]
  },
  {
   "cell_type": "code",
   "execution_count": 59,
   "metadata": {
    "collapsed": true
   },
   "outputs": [],
   "source": [
    "na_values = ['NO CLUE','0','N/A']\n",
    "requests = pd.read_csv('./../data/311-service-requests.csv',\n",
    "                 na_values=na_values,\n",
    "                 dtype={'Incident Zip': str})"
   ]
  },
  {
   "cell_type": "code",
   "execution_count": 64,
   "metadata": {
    "collapsed": false
   },
   "outputs": [],
   "source": [
    "mask =requests['Incident Zip'].str.contains('-').fillna(False)"
   ]
  },
  {
   "cell_type": "raw",
   "metadata": {},
   "source": [
    "requests[mask]['Incident Zip']"
   ]
  },
  {
   "cell_type": "code",
   "execution_count": 68,
   "metadata": {
    "collapsed": false
   },
   "outputs": [],
   "source": [
    "requests['Incident Zip'] = requests['Incident Zip'].str.slice(0,5)"
   ]
  },
  {
   "cell_type": "code",
   "execution_count": 72,
   "metadata": {
    "collapsed": false
   },
   "outputs": [
    {
     "data": {
      "text/plain": [
       "42600    False\n",
       "60843    False\n",
       "Name: Incident Zip, dtype: bool"
      ]
     },
     "execution_count": 72,
     "metadata": {},
     "output_type": "execute_result"
    }
   ],
   "source": [
    "mask = (requests['Incident Zip'] == '00000')\n",
    "requests.ix[mask,'Incident Zip'] == np.nan"
   ]
  },
  {
   "cell_type": "code",
   "execution_count": 74,
   "metadata": {
    "collapsed": false
   },
   "outputs": [
    {
     "data": {
      "text/plain": [
       "array(['11432', '11378', '10032', '10023', '10027', '11372', '11419',\n",
       "       '11417', '10011', '11225', '11218', '10003', '10029', '10466',\n",
       "       '11219', '10025', '10310', '11236', nan, '10033', '11216', '10016',\n",
       "       '10305', '10312', '10026', '10309', '10036', '11433', '11235',\n",
       "       '11213', '11379', '11101', '10014', '11231', '11234', '10457',\n",
       "       '10459', '10465', '11207', '10002', '10034', '11233', '10453',\n",
       "       '10456', '10469', '11374', '11221', '11421', '11215', '10007',\n",
       "       '10019', '11205', '11418', '11369', '11249', '10005', '10009',\n",
       "       '11211', '11412', '10458', '11229', '10065', '10030', '11222',\n",
       "       '10024', '10013', '11420', '11365', '10012', '11214', '11212',\n",
       "       '10022', '11232', '11040', '11226', '10281', '11102', '11208',\n",
       "       '10001', '10472', '11414', '11223', '10040', '11220', '11373',\n",
       "       '11203', '11691', '11356', '10017', '10452', '10280', '11217',\n",
       "       '10031', '11201', '11358', '10128', '11423', '10039', '10010',\n",
       "       '11209', '10021', '10037', '11413', '11375', '11238', '10473',\n",
       "       '11103', '11354', '11361', '11106', '11385', '10463', '10467',\n",
       "       '11204', '11237', '11377', '11364', '11434', '11435', '11210',\n",
       "       '11228', '11368', '11694', '10464', '11415', '10314', '10301',\n",
       "       '10018', '10038', '11105', '11230', '10468', '11104', '10471',\n",
       "       '11416', '10075', '11422', '11355', '10028', '10462', '10306',\n",
       "       '10461', '11224', '11429', '10035', '11366', '11362', '11206',\n",
       "       '10460', '10304', '11360', '11411', '10455', '10475', '10069',\n",
       "       '10303', '10308', '10302', '11357', '10470', '11367', '11370',\n",
       "       '10454', '10451', '11436', '11426', '10153', '11004', '11428',\n",
       "       '11427', '11001', '11363', '10004', '10474', '11430', '10000',\n",
       "       '10307', '11239', '10119', '10006', '10048', '11697', '11692',\n",
       "       '11693', '10573', '00083', '11559', '10020', '77056', '11776',\n",
       "       '70711', '10282', '11109', '10044', '02061', '77092', '14225',\n",
       "       '55164', '19711', '07306', '00000', '90010', '11747', '23541',\n",
       "       '11788', '07604', '10112', '11563', '11580', '07087', '11042',\n",
       "       '07093', '11501', '92123', '11575', '07109', '11797', '10803',\n",
       "       '11716', '11722', '11549', '10162', '23502', '11518', '07020',\n",
       "       '08807', '11577', '07114', '11003', '07201', '61702', '10103',\n",
       "       '29616', '35209', '11520', '11735', '10129', '11005', '41042',\n",
       "       '11590', '06901', '07208', '11530', '13221', '10954', '11111',\n",
       "       '10107'], dtype=object)"
      ]
     },
     "execution_count": 74,
     "metadata": {},
     "output_type": "execute_result"
    }
   ],
   "source": [
    "requests['Incident Zip'].unique()"
   ]
  },
  {
   "cell_type": "code",
   "execution_count": 79,
   "metadata": {
    "collapsed": false
   },
   "outputs": [],
   "source": [
    "is_close=(requests['Incident Zip'].str.startswith('0') | requests['Incident Zip'].str.startswith('1'))"
   ]
  },
  {
   "cell_type": "code",
   "execution_count": 94,
   "metadata": {
    "collapsed": false
   },
   "outputs": [
    {
     "data": {
      "text/html": [
       "<div>\n",
       "<table border=\"1\" class=\"dataframe\">\n",
       "  <thead>\n",
       "    <tr style=\"text-align: right;\">\n",
       "      <th></th>\n",
       "      <th>Incident Zip</th>\n",
       "      <th>Descriptor</th>\n",
       "      <th>City</th>\n",
       "    </tr>\n",
       "  </thead>\n",
       "  <tbody>\n",
       "    <tr>\n",
       "      <th>12102</th>\n",
       "      <td>77056</td>\n",
       "      <td>Debt Not Owed</td>\n",
       "      <td>HOUSTON</td>\n",
       "    </tr>\n",
       "    <tr>\n",
       "      <th>13450</th>\n",
       "      <td>70711</td>\n",
       "      <td>Contract Dispute</td>\n",
       "      <td>CLIFTON</td>\n",
       "    </tr>\n",
       "    <tr>\n",
       "      <th>29136</th>\n",
       "      <td>77092</td>\n",
       "      <td>False Advertising</td>\n",
       "      <td>HOUSTON</td>\n",
       "    </tr>\n",
       "    <tr>\n",
       "      <th>30939</th>\n",
       "      <td>55164</td>\n",
       "      <td>Harassment</td>\n",
       "      <td>ST. PAUL</td>\n",
       "    </tr>\n",
       "    <tr>\n",
       "      <th>44008</th>\n",
       "      <td>90010</td>\n",
       "      <td>Billing Dispute</td>\n",
       "      <td>LOS ANGELES</td>\n",
       "    </tr>\n",
       "    <tr>\n",
       "      <th>47048</th>\n",
       "      <td>23541</td>\n",
       "      <td>Harassment</td>\n",
       "      <td>NORFOLK</td>\n",
       "    </tr>\n",
       "    <tr>\n",
       "      <th>57636</th>\n",
       "      <td>92123</td>\n",
       "      <td>Harassment</td>\n",
       "      <td>SAN DIEGO</td>\n",
       "    </tr>\n",
       "    <tr>\n",
       "      <th>71001</th>\n",
       "      <td>92123</td>\n",
       "      <td>Billing Dispute</td>\n",
       "      <td>SAN DIEGO</td>\n",
       "    </tr>\n",
       "    <tr>\n",
       "      <th>71834</th>\n",
       "      <td>23502</td>\n",
       "      <td>Harassment</td>\n",
       "      <td>NORFOLK</td>\n",
       "    </tr>\n",
       "    <tr>\n",
       "      <th>80573</th>\n",
       "      <td>61702</td>\n",
       "      <td>Billing Dispute</td>\n",
       "      <td>BLOOMIGTON</td>\n",
       "    </tr>\n",
       "    <tr>\n",
       "      <th>85821</th>\n",
       "      <td>29616</td>\n",
       "      <td>Debt Not Owed</td>\n",
       "      <td>GREENVILLE</td>\n",
       "    </tr>\n",
       "    <tr>\n",
       "      <th>89304</th>\n",
       "      <td>35209</td>\n",
       "      <td>Harassment</td>\n",
       "      <td>BIRMINGHAM</td>\n",
       "    </tr>\n",
       "    <tr>\n",
       "      <th>94201</th>\n",
       "      <td>41042</td>\n",
       "      <td>Harassment</td>\n",
       "      <td>FLORENCE</td>\n",
       "    </tr>\n",
       "  </tbody>\n",
       "</table>\n",
       "</div>"
      ],
      "text/plain": [
       "      Incident Zip         Descriptor         City\n",
       "12102        77056      Debt Not Owed      HOUSTON\n",
       "13450        70711   Contract Dispute      CLIFTON\n",
       "29136        77092  False Advertising      HOUSTON\n",
       "30939        55164         Harassment     ST. PAUL\n",
       "44008        90010    Billing Dispute  LOS ANGELES\n",
       "47048        23541         Harassment      NORFOLK\n",
       "57636        92123         Harassment    SAN DIEGO\n",
       "71001        92123    Billing Dispute    SAN DIEGO\n",
       "71834        23502         Harassment      NORFOLK\n",
       "80573        61702    Billing Dispute   BLOOMIGTON\n",
       "85821        29616      Debt Not Owed   GREENVILLE\n",
       "89304        35209         Harassment   BIRMINGHAM\n",
       "94201        41042         Harassment     FLORENCE"
      ]
     },
     "execution_count": 94,
     "metadata": {},
     "output_type": "execute_result"
    }
   ],
   "source": [
    "zips = requests['Incident Zip'].notnull()\n",
    "is_far = ~(is_close) & (zips)\n",
    "requests[is_far][['Incident Zip','Descriptor','City']]"
   ]
  },
  {
   "cell_type": "code",
   "execution_count": 96,
   "metadata": {
    "collapsed": false
   },
   "outputs": [
    {
     "data": {
      "text/plain": [
       "BROOKLYN                  31662\n",
       "NEW YORK                  22664\n",
       "BRONX                     18438\n",
       "STATEN ISLAND              4766\n",
       "Jamaica                    1521\n",
       "Flushing                   1066\n",
       "Astoria                     892\n",
       "FLUSHING                    737\n",
       "JAMAICA                     725\n",
       "ASTORIA                     676\n",
       "Ridgewood                   651\n",
       "Far Rockaway                511\n",
       "Ozone Park                  445\n",
       "Elmhurst                    423\n",
       "RIDGEWOOD                   422\n",
       "Corona                      377\n",
       "Queens Village              362\n",
       "Long Island City            346\n",
       "Jackson Heights             341\n",
       "LONG ISLAND CITY            332\n",
       "CORONA                      330\n",
       "South Richmond Hill         324\n",
       "Woodside                    305\n",
       "WOODSIDE                    304\n",
       "Springfield Gardens         304\n",
       "Forest Hills                296\n",
       "Woodhaven                   291\n",
       "Saint Albans                291\n",
       "East Elmhurst               288\n",
       "EAST ELMHURST               274\n",
       "                          ...  \n",
       "FLORENCE                      1\n",
       "NANUET                        1\n",
       "STAMFORD                      1\n",
       "FREEPORT                      1\n",
       "FARMINGDALE                   1\n",
       "COL.ANVURES                   1\n",
       "CENTRAL ISLIP                 1\n",
       "ELIZABETH                     1\n",
       "MELVILLE                      1\n",
       "WEST NEW YORK                 1\n",
       "LOS ANGELES                   1\n",
       "HEMSTEAD                      1\n",
       "CLIFTON                       1\n",
       "NEW YOR                       1\n",
       "VALLEY STREAM                 1\n",
       "LAWRENCE                      1\n",
       "ROSELYN                       1\n",
       "ROSLYN                        1\n",
       "EAST ROCKAWAY                 1\n",
       "SYRACUSE                      1\n",
       "BELLEVILLE                    1\n",
       "BIRMINGHAM                    1\n",
       "BRIDGE  WATER                 1\n",
       "NORTH BERGEN                  1\n",
       "BRIARWOOD                     1\n",
       "JERSEY CITY                   1\n",
       "ST. PAUL                      1\n",
       "NJ                            1\n",
       "PORT JEFFERSON STATION        1\n",
       "UNION CITY                    1\n",
       "Name: City, dtype: int64"
      ]
     },
     "execution_count": 96,
     "metadata": {},
     "output_type": "execute_result"
    }
   ],
   "source": [
    "requests['City'].value_counts()"
   ]
  },
  {
   "cell_type": "code",
   "execution_count": null,
   "metadata": {
    "collapsed": true
   },
   "outputs": [],
   "source": []
  }
 ],
 "metadata": {
  "kernelspec": {
   "display_name": "Python 2",
   "language": "python",
   "name": "python2"
  },
  "language_info": {
   "codemirror_mode": {
    "name": "ipython",
    "version": 2
   },
   "file_extension": ".py",
   "mimetype": "text/x-python",
   "name": "python",
   "nbconvert_exporter": "python",
   "pygments_lexer": "ipython2",
   "version": "2.7.11+"
  }
 },
 "nbformat": 4,
 "nbformat_minor": 0
}
